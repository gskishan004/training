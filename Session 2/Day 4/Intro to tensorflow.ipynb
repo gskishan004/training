{
 "cells": [
  {
   "cell_type": "markdown",
   "metadata": {},
   "source": [
    "### TensorFlow basics"
   ]
  },
  {
   "cell_type": "code",
   "execution_count": 2,
   "metadata": {},
   "outputs": [
    {
     "name": "stderr",
     "output_type": "stream",
     "text": [
      "/usr/local/anaconda3/lib/python3.6/importlib/_bootstrap.py:219: RuntimeWarning: compiletime version 3.5 of module 'tensorflow.python.framework.fast_tensor_util' does not match runtime version 3.6\n",
      "  return f(*args, **kwds)\n",
      "/usr/local/anaconda3/lib/python3.6/site-packages/h5py/__init__.py:36: FutureWarning: Conversion of the second argument of issubdtype from `float` to `np.floating` is deprecated. In future, it will be treated as `np.float64 == np.dtype(float).type`.\n",
      "  from ._conv import register_converters as _register_converters\n"
     ]
    }
   ],
   "source": [
    "import tensorflow as tf\n",
    "import numpy as np\n",
    "import time"
   ]
  },
  {
   "cell_type": "markdown",
   "metadata": {},
   "source": [
    "---\n",
    "The fundamental objects we have in tensorflow are **graphs** and **sessions**. The default graph would be used if no graph is specified explicitly. The `InteractiveSession` allows less typing (notice that we don't need `session = sess` or `sess.run`)"
   ]
  },
  {
   "cell_type": "code",
   "execution_count": 3,
   "metadata": {},
   "outputs": [
    {
     "name": "stdout",
     "output_type": "stream",
     "text": [
      "99\n"
     ]
    }
   ],
   "source": [
    "sess = tf.InteractiveSession()\n",
    "k = tf.Variable(90)\n",
    "l = tf.Variable(9)\n",
    "tf.global_variables_initializer().run()\n",
    "print(tf.add(k, l).eval())\n",
    "sess.close()"
   ]
  },
  {
   "cell_type": "markdown",
   "metadata": {},
   "source": [
    "### MNIST dataset\n",
    "\n",
    "A very popular toyset to demonstrate neural network is the mnist dataset. The dataset and the description can be found at <a href=http://yann.lecun.com/exdb/mnist/>Yann LeCun's website</a>. The package tensorflow also provide a function to load the dataset:"
   ]
  },
  {
   "cell_type": "code",
   "execution_count": 4,
   "metadata": {},
   "outputs": [
    {
     "name": "stdout",
     "output_type": "stream",
     "text": [
      "WARNING:tensorflow:From <ipython-input-4-8bf8ae5a5303>:2: read_data_sets (from tensorflow.contrib.learn.python.learn.datasets.mnist) is deprecated and will be removed in a future version.\n",
      "Instructions for updating:\n",
      "Please use alternatives such as official/mnist/dataset.py from tensorflow/models.\n",
      "WARNING:tensorflow:From /usr/local/anaconda3/lib/python3.6/site-packages/tensorflow/contrib/learn/python/learn/datasets/mnist.py:260: maybe_download (from tensorflow.contrib.learn.python.learn.datasets.base) is deprecated and will be removed in a future version.\n",
      "Instructions for updating:\n",
      "Please write your own downloading logic.\n",
      "WARNING:tensorflow:From /usr/local/anaconda3/lib/python3.6/site-packages/tensorflow/contrib/learn/python/learn/datasets/mnist.py:262: extract_images (from tensorflow.contrib.learn.python.learn.datasets.mnist) is deprecated and will be removed in a future version.\n",
      "Instructions for updating:\n",
      "Please use tf.data to implement this functionality.\n",
      "Extracting MNIST_data/train-images-idx3-ubyte.gz\n",
      "WARNING:tensorflow:From /usr/local/anaconda3/lib/python3.6/site-packages/tensorflow/contrib/learn/python/learn/datasets/mnist.py:267: extract_labels (from tensorflow.contrib.learn.python.learn.datasets.mnist) is deprecated and will be removed in a future version.\n",
      "Instructions for updating:\n",
      "Please use tf.data to implement this functionality.\n",
      "Extracting MNIST_data/train-labels-idx1-ubyte.gz\n",
      "WARNING:tensorflow:From /usr/local/anaconda3/lib/python3.6/site-packages/tensorflow/contrib/learn/python/learn/datasets/mnist.py:110: dense_to_one_hot (from tensorflow.contrib.learn.python.learn.datasets.mnist) is deprecated and will be removed in a future version.\n",
      "Instructions for updating:\n",
      "Please use tf.one_hot on tensors.\n",
      "Extracting MNIST_data/t10k-images-idx3-ubyte.gz\n",
      "Extracting MNIST_data/t10k-labels-idx1-ubyte.gz\n",
      "WARNING:tensorflow:From /usr/local/anaconda3/lib/python3.6/site-packages/tensorflow/contrib/learn/python/learn/datasets/mnist.py:290: DataSet.__init__ (from tensorflow.contrib.learn.python.learn.datasets.mnist) is deprecated and will be removed in a future version.\n",
      "Instructions for updating:\n",
      "Please use alternatives such as official/mnist/dataset.py from tensorflow/models.\n"
     ]
    }
   ],
   "source": [
    "from tensorflow.examples.tutorials.mnist import input_data\n",
    "mnist = input_data.read_data_sets(\"MNIST_data/\", one_hot=True)"
   ]
  },
  {
   "cell_type": "code",
   "execution_count": 5,
   "metadata": {},
   "outputs": [
    {
     "data": {
      "text/plain": [
       "['__add__',\n",
       " '__class__',\n",
       " '__contains__',\n",
       " '__delattr__',\n",
       " '__dir__',\n",
       " '__doc__',\n",
       " '__eq__',\n",
       " '__format__',\n",
       " '__ge__',\n",
       " '__getattribute__',\n",
       " '__getitem__',\n",
       " '__getnewargs__',\n",
       " '__gt__',\n",
       " '__hash__',\n",
       " '__init__',\n",
       " '__init_subclass__',\n",
       " '__iter__',\n",
       " '__le__',\n",
       " '__len__',\n",
       " '__lt__',\n",
       " '__module__',\n",
       " '__mul__',\n",
       " '__ne__',\n",
       " '__new__',\n",
       " '__reduce__',\n",
       " '__reduce_ex__',\n",
       " '__repr__',\n",
       " '__rmul__',\n",
       " '__setattr__',\n",
       " '__sizeof__',\n",
       " '__slots__',\n",
       " '__str__',\n",
       " '__subclasshook__',\n",
       " '_asdict',\n",
       " '_fields',\n",
       " '_make',\n",
       " '_replace',\n",
       " '_source',\n",
       " 'count',\n",
       " 'index',\n",
       " 'test',\n",
       " 'train',\n",
       " 'validation']"
      ]
     },
     "execution_count": 5,
     "metadata": {},
     "output_type": "execute_result"
    }
   ],
   "source": [
    "dir(mnist)"
   ]
  },
  {
   "cell_type": "code",
   "execution_count": 6,
   "metadata": {},
   "outputs": [
    {
     "name": "stdout",
     "output_type": "stream",
     "text": [
      "The size of the training input: (55000, 784)\n",
      "The size of the training label: (55000, 10)\n"
     ]
    }
   ],
   "source": [
    "print('The size of the training input:', mnist.train.images.shape)\n",
    "print('The size of the training label:', mnist.train.labels.shape)"
   ]
  },
  {
   "cell_type": "markdown",
   "metadata": {},
   "source": [
    "The validation and the test sets can be loaded in the same way.\n",
    "\n",
    "Below we demo a convenient way to save your data:"
   ]
  },
  {
   "cell_type": "code",
   "execution_count": 7,
   "metadata": {},
   "outputs": [],
   "source": [
    "from six.moves import cPickle as pickle"
   ]
  },
  {
   "cell_type": "code",
   "execution_count": 8,
   "metadata": {},
   "outputs": [],
   "source": [
    "set_filename = './saved_data.pkl'\n",
    "to_be_saved = {'images': mnist.train.images,\n",
    "               'labels': mnist.train.labels}\n",
    "\n",
    "with open(set_filename, 'wb') as f:\n",
    "    pickle.dump(to_be_saved, f, pickle.HIGHEST_PROTOCOL)"
   ]
  },
  {
   "cell_type": "code",
   "execution_count": 9,
   "metadata": {},
   "outputs": [],
   "source": [
    "pickle_file = './saved_data.pkl'\n",
    "\n",
    "with open(pickle_file, 'rb') as f:\n",
    "    loaded_data = pickle.load(f)\n",
    "\n",
    "images = loaded_data['images']\n",
    "labels = loaded_data['labels']"
   ]
  },
  {
   "cell_type": "markdown",
   "metadata": {},
   "source": [
    "### A simple logistic regression\n",
    "\n",
    "Let's start with a **logistic regression** on a simple dataset. Below we visualize this toy dataset:"
   ]
  },
  {
   "cell_type": "code",
   "execution_count": 10,
   "metadata": {},
   "outputs": [
    {
     "name": "stdout",
     "output_type": "stream",
     "text": [
      "x_train shape :  (400, 1)\n",
      "y_train shape :  (400, 1)\n"
     ]
    },
    {
     "data": {
      "text/plain": [
       "<matplotlib.collections.PathCollection at 0x1c334bc208>"
      ]
     },
     "execution_count": 10,
     "metadata": {},
     "output_type": "execute_result"
    },
    {
     "data": {
      "image/png": "[encoded data removed]",
      "text/plain": [
       "<Figure size 432x288 with 1 Axes>"
      ]
     },
     "metadata": {},
     "output_type": "display_data"
    }
   ],
   "source": [
    "x_train = np.array(sorted(np.random.rand(400)*6)).reshape(-1, 1)\n",
    "print('x_train shape : ', x_train.shape)\n",
    "y_train = np.array([1]*100+[0]*200 + [1]*100).reshape(-1,1)\n",
    "print('y_train shape : ', y_train.shape)\n",
    "\n",
    "import matplotlib.pyplot as plt\n",
    "%matplotlib inline\n",
    "color  = list(map(lambda x: 'b' if x==0 else 'r', y_train))\n",
    "plt.scatter(x_train, y_train, s=5, alpha=0.3, color= color)"
   ]
  },
  {
   "cell_type": "markdown",
   "metadata": {},
   "source": [
    "Let's inspect the result from `sklearn`:"
   ]
  },
  {
   "cell_type": "code",
   "execution_count": 11,
   "metadata": {},
   "outputs": [
    {
     "name": "stderr",
     "output_type": "stream",
     "text": [
      "/usr/local/anaconda3/lib/python3.6/site-packages/sklearn/utils/validation.py:578: DataConversionWarning: A column-vector y was passed when a 1d array was expected. Please change the shape of y to (n_samples, ), for example using ravel().\n",
      "  y = column_or_1d(y, warn=True)\n"
     ]
    },
    {
     "data": {
      "text/plain": [
       "[<matplotlib.lines.Line2D at 0x1c335087f0>]"
      ]
     },
     "execution_count": 11,
     "metadata": {},
     "output_type": "execute_result"
    },
    {
     "data": {
      "image/png": "[encoded data removed]",
      "text/plain": [
       "<Figure size 432x288 with 1 Axes>"
      ]
     },
     "metadata": {},
     "output_type": "display_data"
    }
   ],
   "source": [
    "from sklearn import linear_model\n",
    "logit = linear_model.LogisticRegression(C = 1e8)\n",
    "logit.fit(x_train, y_train)\n",
    "probability = logit.predict_proba(x_train)\n",
    "\n",
    "plt.scatter(x_train, y_train, s=5, alpha=0.3, color= color)\n",
    "plt.plot(x_train, probability[:,0], c='k')"
   ]
  },
  {
   "cell_type": "markdown",
   "metadata": {},
   "source": [
    "---\n",
    "\n",
    "Below we implement logistic regression with tensorflow. Here is the formula how logistic regression generates probability\n",
    "\n",
    "<img src = https://s3-us-west-2.amazonaws.com/nycdatasciecneipynb/logistic.png height=200 width = 300>\n",
    "\n",
    "\n",
    "\n",
    "\n",
    "Below pay attention to \n",
    "\n",
    "- the TensorFlow data types: **`constant`** and **`Variable`**.\n",
    "- the **`forward propagation`** and the **`backpropagation`**."
   ]
  },
  {
   "cell_type": "code",
   "execution_count": 12,
   "metadata": {},
   "outputs": [],
   "source": [
    "sess = tf.InteractiveSession()\n",
    "\n",
    "x = tf.constant(x_train, dtype=tf.float32)\n",
    "y = tf.constant(y_train, dtype=tf.float32)\n",
    "w = tf.Variable(tf.truncated_normal([1,1], stddev=0.1))\n",
    "b = tf.Variable(tf.constant(0.1, shape=[1,1]))\n",
    "\n",
    "\n",
    "y_lin = tf.add(tf.matmul(x, w), b)\n",
    "log_likelihood = tf.reduce_mean(y_lin*y - tf.log(1+tf.exp(y_lin)), 0)\n",
    "loss = -1*log_likelihood ### We may simply use the Python operators as well\n",
    "train_step = tf.train.GradientDescentOptimizer(0.1).minimize(loss) # 0.1 is the learning rate\n",
    "\n",
    "steps = 200\n",
    "tf.global_variables_initializer().run()\n",
    "for i in range(steps):\n",
    "    train_step.run() # this will update w and b"
   ]
  },
  {
   "cell_type": "markdown",
   "metadata": {},
   "source": [
    "The logloss we implemented above is:\n",
    "\n",
    "<img src = https://s3-us-west-2.amazonaws.com/nycdatasciecneipynb/log_loss.png height=270 width = 450>\n",
    "\n",
    "<br>\n",
    "\n",
    "Since what we implemented here is nothing but the logistic regression. The result is as bad as the one from `sklearn`."
   ]
  },
  {
   "cell_type": "code",
   "execution_count": 13,
   "metadata": {},
   "outputs": [
    {
     "data": {
      "image/png": "[encoded data removed]",
      "text/plain": [
       "<Figure size 432x288 with 1 Axes>"
      ]
     },
     "metadata": {},
     "output_type": "display_data"
    }
   ],
   "source": [
    "prob = tf.nn.sigmoid(y_lin).eval() # using the updated w,b -> predict prob\n",
    "plt.scatter(x_train, y_train, s=5, alpha=0.3, color= color)\n",
    "plt.plot(x_train, prob, c='k')\n",
    "sess.close()"
   ]
  },
  {
   "cell_type": "markdown",
   "metadata": {},
   "source": [
    "---\n",
    "\n",
    "Let's add one hidden layer.\n",
    "\n",
    "<img src = https://s3-us-west-2.amazonaws.com/nycdatasciecneipynb/first_hidden.png height=200 width = 300>\n",
    "<br/>\n",
    "Define the row vector \n",
    "\n",
    "$$w_1 = (\\alpha^1, \\alpha^2) \\ \\text{ and } \\ b_1 = (\\beta^1, \\beta^2),$$\n",
    "\n",
    "we may write the \"formula\" above with matrix notation:\n",
    "<br/>\n",
    "<img src = https://s3-us-west-2.amazonaws.com/nycdatasciecneipynb/first_hidden_2.png height=250 width = 375>\n",
    "<br/>\n",
    "Then we aggregate the two first layer prediction, to make a new one:\n",
    "<br/>\n",
    "<img src = https://s3-us-west-2.amazonaws.com/nycdatasciecneipynb/second_layer.png height=250 width = 375>"
   ]
  },
  {
   "cell_type": "code",
   "execution_count": 14,
   "metadata": {},
   "outputs": [
    {
     "name": "stdout",
     "output_type": "stream",
     "text": [
      "(400, 1)\n",
      "(400, 1)\n"
     ]
    }
   ],
   "source": [
    "sess = tf.InteractiveSession()\n",
    "\n",
    "x = tf.constant(x_train, dtype=tf.float32)\n",
    "y = tf.constant(y_train, dtype=tf.float32)\n",
    "w_1 = tf.Variable(tf.truncated_normal([1,2], stddev=0.1))\n",
    "b_1 = tf.Variable(tf.constant(0.1, shape=[1,2]))\n",
    "hidden = tf.nn.sigmoid(tf.add(tf.matmul(x, w_1), b_1))\n",
    "w_2 = tf.Variable(tf.truncated_normal([2,1], stddev=0.1))\n",
    "b_2 = tf.Variable(tf.constant(0.1, shape=[1,1]))\n",
    "\n",
    "# y_lin = tf.add(tf.matmul(hidden, w_2), b_2)\n",
    "# loss = -1*tf.reduce_mean(y_lin*y - tf.log(1+tf.exp(y_lin)), 0)\n",
    "\n",
    "y_lin = tf.nn.sigmoid(tf.add(tf.matmul(hidden, w_2), b_2))\n",
    "print(y_lin.shape)\n",
    "print(y.shape)\n",
    "loss = tf.reduce_mean(- (tf.multiply(y,tf.log(y_lin))) - (tf.multiply ( (1-y),tf.log( 1- y_lin) )))\n",
    "train_step = tf.train.GradientDescentOptimizer(0.1).minimize(loss)\n",
    "\n",
    "steps = 20000\n",
    "tf.global_variables_initializer().run()\n",
    "for i in range(steps):\n",
    "    train_step.run()"
   ]
  },
  {
   "cell_type": "markdown",
   "metadata": {},
   "source": [
    "The result becomes much better!"
   ]
  },
  {
   "cell_type": "code",
   "execution_count": 15,
   "metadata": {},
   "outputs": [
    {
     "data": {
      "text/plain": [
       "[<matplotlib.lines.Line2D at 0x1c33b7dbe0>]"
      ]
     },
     "execution_count": 15,
     "metadata": {},
     "output_type": "execute_result"
    },
    {
     "data": {
      "image/png": "[encoded data removed]",
      "text/plain": [
       "<Figure size 432x288 with 1 Axes>"
      ]
     },
     "metadata": {},
     "output_type": "display_data"
    }
   ],
   "source": [
    "#prob = tf.nn.sigmoid(y_lin).eval()\n",
    "prob = y_lin.eval()\n",
    "plt.scatter(x_train, y_train, s=5, alpha=0.3, color= color)\n",
    "plt.plot(x_train, prob, c='k')"
   ]
  },
  {
   "cell_type": "markdown",
   "metadata": {},
   "source": [
    "#### More on `Forward Propogation` and `Backpropogation`\n",
    "\n",
    "Now we know the math behind a simple neural network, but how was it related to the popular graph of neurons?\n",
    "\n",
    "<img src = https://s3-us-west-2.amazonaws.com/nycdatasciecneipynb/neurons.png height=250 width = 375>\n",
    "\n",
    "Our example can be represented by the plot below. The equations on the top show the forward propogation:\n",
    "\n",
    "<img src = https://s3-us-west-2.amazonaws.com/nycdatasciecneipynb/neurons_ex_img/4.png height=400 width = 500>\n",
    "\n",
    "- The loss function, $loss(w_1, b_1, w_2, b_2)$ can be constructed with the output $y=f \\ ( \\ f \\ ( x \\times w_1 + b_1) \\times w_2 + b_2)$. \n",
    "- The loss function can be then minimized by **gradient descent**, which utilize the differential of the loss function.\n",
    "\n",
    "Differentiating the loss function can be complicated. To show how error is passed through **backpropogation**, we instead differentiate the output $y$ with respect to $w_1, b_1, w_2$ and $b_2$.\n",
    "\n",
    "$$\n",
    "\\frac{ \\partial{y} }{ \\partial{w_2}} = f'(p \\cdot w_2 + b_2) \\cdot p\n",
    "$$\n",
    "\n",
    "$$\n",
    "\\frac{ \\partial{y} }{ \\partial{b_2}} = f'(p \\cdot w_2 + b_2) \\cdot  \\textbf{1}\n",
    "$$\n",
    "\n",
    "$$\n",
    "\\frac{ \\partial{y} }{ \\partial{w_1}} = f'(p \\cdot w_2 + b_2) \\cdot w_2 \\cdot f'(x \\cdot w_1 + b_1 ) \\cdot x\n",
    "$$\n",
    "\n",
    "$$\n",
    "\\frac{ \\partial{y} }{ \\partial{w_1}} = f'(p \\cdot w_2 + b_2) \\cdot w_2 \\cdot f'(x \\cdot w_1 + b_1 ) \\cdot \\textbf{1}\n",
    "$$"
   ]
  },
  {
   "cell_type": "markdown",
   "metadata": {},
   "source": [
    "Below we visualize how the second layer uses the result from the first layer ($p^1$ and $p^2$)."
   ]
  },
  {
   "cell_type": "code",
   "execution_count": 16,
   "metadata": {
    "scrolled": true
   },
   "outputs": [
    {
     "data": {
      "image/png": "[encoded data removed]",
      "text/plain": [
       "<Figure size 432x288 with 1 Axes>"
      ]
     },
     "metadata": {},
     "output_type": "display_data"
    }
   ],
   "source": [
    "plt.scatter(x_train, y_train, s=5, alpha=0.3, color= color)\n",
    "pts = np.linspace(0,6,800)\n",
    "b = b_1.eval()\n",
    "w = w_1.eval()\n",
    "\n",
    "def sigmoid(x):\n",
    "    x = tf.constant(x, dtype=tf.float32)\n",
    "    result = tf.nn.sigmoid(x).eval()\n",
    "    return result\n",
    "\n",
    "curve1 = sigmoid(b[0,0] + w[0,0]*pts)\n",
    "curve2 = sigmoid(b[0,1] + w[0,1]*pts)\n",
    "plt.plot(pts, curve1,'g')\n",
    "plt.plot(pts, curve2,'y')\n",
    "sess.close()"
   ]
  },
  {
   "cell_type": "markdown",
   "metadata": {},
   "source": [
    "It would be better to put everything together:"
   ]
  },
  {
   "cell_type": "code",
   "execution_count": 17,
   "metadata": {},
   "outputs": [],
   "source": [
    "class One_layer_of_size_two(object):\n",
    "    def __init__(self):\n",
    "        self.__w1 = None\n",
    "        self.__b1 = None\n",
    "        self.__w2 = None\n",
    "        self.__b1 = None\n",
    "        \n",
    "    def __initialize_model(self, x_train, y_train):\n",
    "        x = tf.constant(x_train, dtype=tf.float32)\n",
    "        y = tf.constant(y_train, dtype=tf.float32)\n",
    "        w_1 = tf.Variable(tf.truncated_normal(shape = [1,2], stddev=0.1))\n",
    "        b_1 = tf.Variable(tf.constant(0.1, shape=[1,2]))\n",
    "        hidden = tf.nn.sigmoid(tf.add(tf.matmul(x, w_1), b_1))\n",
    "        w_2 = tf.Variable(tf.truncated_normal([2,1], stddev=0.1))\n",
    "        b_2 = tf.Variable(tf.constant(0.1, shape=[1,1]))\n",
    "        y_lin = tf.add(tf.matmul(hidden, w_2), b_2)\n",
    "        \n",
    "        # Can use our manual formula or the inbuilt function\n",
    "        #loss = -1*tf.reduce_mean(y_lin*y - tf.log(1+tf.exp(y_lin)), 0)\n",
    "        loss = tf.reduce_mean(tf.nn.sigmoid_cross_entropy_with_logits(logits=y_lin, labels=y))\n",
    "        \n",
    "        tf.global_variables_initializer().run()\n",
    "        train_step = tf.train.GradientDescentOptimizer(0.1).minimize(loss)\n",
    "        return train_step, w_1, b_1, w_2, b_2\n",
    "        \n",
    "    def fit(self, x_train, y_train, steps=20000):\n",
    "        train_step, w_1, b_1, w_2, b_2 = self.__initialize_model(x_train, y_train)\n",
    "        tf.global_variables_initializer().run()\n",
    "        for i in range(steps):\n",
    "            train_step.run()\n",
    "            \n",
    "        self.__w1 = w_1.eval()\n",
    "        self.__b1 = b_1.eval()\n",
    "        self.__w2 = w_2.eval()\n",
    "        self.__b2 = b_2.eval()\n",
    "    \n",
    "    def __sigmoid(self, x):\n",
    "        x = tf.constant(x, dtype=tf.float32)\n",
    "        result = tf.nn.sigmoid(x).eval()\n",
    "        return result\n",
    "        \n",
    "    def predict_prob(self, x_train):\n",
    "        w1 = self.__w1\n",
    "        b1 = self.__b1\n",
    "        w2 = self.__w2\n",
    "        b2 = self.__b2\n",
    "        y_lin = np.dot(self.__sigmoid(np.dot(x_train, w1)+b1), w2)+b2\n",
    "        return self.__sigmoid(y_lin)\n",
    "    \n",
    "    @property\n",
    "    def w1(self):\n",
    "        return self.__w1\n",
    "    \n",
    "    @property\n",
    "    def b1(self):\n",
    "        return self.__b1\n",
    "    \n",
    "    @property\n",
    "    def w2(self):\n",
    "        return self.__w2\n",
    "    \n",
    "    @property\n",
    "    def b2(self):\n",
    "        return self.__b2"
   ]
  },
  {
   "cell_type": "markdown",
   "metadata": {},
   "source": [
    "Our goal is to be able to work as in `sklearn`:"
   ]
  },
  {
   "cell_type": "code",
   "execution_count": 18,
   "metadata": {},
   "outputs": [
    {
     "data": {
      "image/png": "[encoded data removed]",
      "text/plain": [
       "<Figure size 432x288 with 1 Axes>"
      ]
     },
     "metadata": {},
     "output_type": "display_data"
    }
   ],
   "source": [
    "sess = tf.InteractiveSession()\n",
    "nn = One_layer_of_size_two()\n",
    "nn.fit(x_train, y_train)\n",
    "prob = nn.predict_prob(x_train)\n",
    "plt.scatter(x_train, y_train, s=5, alpha=0.3, color= color)\n",
    "plt.plot(x_train, prob, c='k')\n",
    "\n",
    "### Keep in mind that there is a session that we need to close\n",
    "sess.close()"
   ]
  },
  {
   "cell_type": "markdown",
   "metadata": {},
   "source": [
    "**Exercise**: Implement random initialization to the class."
   ]
  },
  {
   "cell_type": "markdown",
   "metadata": {},
   "source": [
    "---\n",
    "\n",
    "\n",
    "### The MNIST dataset:\n",
    "\n",
    "We need to make the code more general, so it's flexible with \n",
    "- amount of observations\n",
    "- amount of features\n",
    "- amount of labels\n",
    "\n",
    "**Note:** Below we no longer implement `predict_prob`, instead we implement `predict`."
   ]
  },
  {
   "cell_type": "code",
   "execution_count": 45,
   "metadata": {},
   "outputs": [],
   "source": [
    "images = mnist.train.images\n",
    "labels = mnist.train.labels"
   ]
  },
  {
   "cell_type": "code",
   "execution_count": 20,
   "metadata": {},
   "outputs": [],
   "source": [
    "class One_layer(object):\n",
    "    def __init__(self, size_hidden=2):\n",
    "        self.__w1 = None\n",
    "        self.__b1 = None\n",
    "        self.__w2 = None\n",
    "        self.__b1 = None\n",
    "        self.__size_hidden = size_hidden\n",
    "        \n",
    "    def __initialize_model(self, x_train, y_train):\n",
    "        num_observations= x_train.shape[0]\n",
    "        num_features   = x_train.shape[1]\n",
    "        num_labels     = y_train.shape[1]\n",
    "        size_hidden    = self.__size_hidden\n",
    "        \n",
    "        x = tf.constant(x_train, dtype=tf.float32)\n",
    "        y = tf.constant(y_train, dtype=tf.float32)\n",
    "        w_1 = tf.Variable(tf.truncated_normal([num_features, size_hidden], stddev=0.1))\n",
    "        b_1 = tf.Variable(tf.constant(0.1, shape=[1, size_hidden]))\n",
    "        hidden = tf.nn.sigmoid(tf.add(tf.matmul(x, w_1), b_1))\n",
    "        w_2 = tf.Variable(tf.truncated_normal([size_hidden, num_labels], stddev=0.1))\n",
    "        b_2 = tf.Variable(tf.constant(0.1, shape=[1,num_labels]))\n",
    "        y_lin = tf.add(tf.matmul(hidden, w_2), b_2)\n",
    "        \n",
    "        loss = tf.reduce_mean(tf.nn.softmax_cross_entropy_with_logits(logits=y_lin, labels=y))\n",
    "        \n",
    "        #tf.global_variables_initializer().run()\n",
    "        train_step = tf.train.GradientDescentOptimizer(0.1).minimize(loss)\n",
    "        return train_step, w_1, b_1, w_2, b_2\n",
    "        \n",
    "    def fit(self, x_train, y_train, steps=20000):\n",
    "        train_step, w_1, b_1, w_2, b_2 = self.__initialize_model(x_train, y_train)\n",
    "        tf.global_variables_initializer().run()\n",
    "        for i in range(steps):\n",
    "            train_step.run()\n",
    "            \n",
    "        self.__w1 = w_1.eval()\n",
    "        self.__b1 = b_1.eval()\n",
    "        self.__w2 = w_2.eval()\n",
    "        self.__b2 = b_2.eval()\n",
    "    \n",
    "    def __sigmoid(self, x):\n",
    "        x = tf.constant(x, dtype=tf.float32)\n",
    "        result = tf.nn.sigmoid(x).eval()\n",
    "        return result\n",
    "        \n",
    "    def predict(self, x_train):\n",
    "        w1 = self.__w1\n",
    "        b1 = self.__b1\n",
    "        w2 = self.__w2\n",
    "        b2 = self.__b2\n",
    "        y_lin = np.dot(self.__sigmoid(np.dot(x_train, w1)+b1), w2)+b2\n",
    "        return tf.argmax(self.__sigmoid(y_lin), 1).eval()\n",
    "        \n",
    "    \n",
    "    @property\n",
    "    def w1(self):\n",
    "        return self.__w1\n",
    "    \n",
    "    @property\n",
    "    def b1(self):\n",
    "        return self.__b1\n",
    "    \n",
    "    @property\n",
    "    def w2(self):\n",
    "        return self.__w2\n",
    "    \n",
    "    @property\n",
    "    def b2(self):\n",
    "        return self.__b2"
   ]
  },
  {
   "cell_type": "code",
   "execution_count": 21,
   "metadata": {},
   "outputs": [
    {
     "name": "stderr",
     "output_type": "stream",
     "text": [
      "/usr/local/anaconda3/lib/python3.6/site-packages/tensorflow/python/client/session.py:1645: UserWarning: An interactive session is already active. This can cause out-of-memory errors in some cases. You must explicitly call `InteractiveSession.close()` to release resources held by the other session(s).\n",
      "  warnings.warn('An interactive session is already active. This can '\n"
     ]
    },
    {
     "name": "stdout",
     "output_type": "stream",
     "text": [
      "WARNING:tensorflow:From <ipython-input-20-3b61869da2a1>:24: softmax_cross_entropy_with_logits (from tensorflow.python.ops.nn_ops) is deprecated and will be removed in a future version.\n",
      "Instructions for updating:\n",
      "\n",
      "Future major versions of TensorFlow will allow gradients to flow\n",
      "into the labels input on backprop by default.\n",
      "\n",
      "See @{tf.nn.softmax_cross_entropy_with_logits_v2}.\n",
      "\n",
      "Accuracy:  0.5301272727272728\n",
      "Time elapsed:  42.56711411476135\n"
     ]
    }
   ],
   "source": [
    "start = time.time()\n",
    "sess = tf.InteractiveSession()\n",
    "nn = One_layer(size_hidden=10)\n",
    "nn.fit(images, labels, steps=200)\n",
    "predict = nn.predict(images)\n",
    "print('Accuracy: ', np.mean(predict == np.argmax(labels, 1)))\n",
    "print('Time elapsed: ', time.time() - start)\n",
    "sess.close()"
   ]
  },
  {
   "cell_type": "markdown",
   "metadata": {},
   "source": [
    "We saw the accuracy is less than 60%. One thing we might want to do is to increase the steps, but it is likely to be very slow. Below we introduce the concept of batch, where we need another TensorFlow type: **`placeholder`**."
   ]
  },
  {
   "cell_type": "code",
   "execution_count": 48,
   "metadata": {},
   "outputs": [],
   "source": [
    "class One_layer_batch(object):\n",
    "    def __init__(self, size_hidden=2):\n",
    "        self.__w1 = None\n",
    "        self.__b1 = None\n",
    "        self.__w2 = None\n",
    "        self.__b1 = None\n",
    "        self.__size_hidden = size_hidden\n",
    "        \n",
    "    def __initialize_model(self, x_train, y_train):\n",
    "        num_observations= x_train.shape[0]\n",
    "        num_features   = x_train.shape[1]\n",
    "        num_labels     = y_train.shape[1]\n",
    "        size_hidden    = self.__size_hidden\n",
    "        \n",
    "        x = tf.placeholder(tf.float32, shape=[None, num_features])\n",
    "        y = tf.placeholder(tf.float32, shape=[None, num_labels])\n",
    "        w_1 = tf.Variable(tf.truncated_normal([num_features, size_hidden], stddev=0.1))\n",
    "        b_1 = tf.Variable(tf.constant(0.1, shape=[1, size_hidden]))\n",
    "        hidden = tf.nn.sigmoid(tf.add(tf.matmul(x, w_1), b_1))\n",
    "        w_2 = tf.Variable(tf.truncated_normal([size_hidden, num_labels], stddev=0.1))\n",
    "        b_2 = tf.Variable(tf.constant(0.1, shape=[1,num_labels]))\n",
    "        y_lin = tf.add(tf.matmul(hidden, w_2), b_2)\n",
    "        \n",
    "        cross_entropy = tf.reduce_mean(tf.nn.softmax_cross_entropy_with_logits(logits=y_lin, labels=y))\n",
    "        train_step = tf.train.GradientDescentOptimizer(0.1).minimize(cross_entropy)\n",
    "        return train_step, x, y, w_1, b_1, w_2, b_2\n",
    "        \n",
    "    def fit(self, x_train, y_train, batch_size = 100, increment = 20, steps = 10000):\n",
    "        train_step, x, y, w_1, b_1, w_2, b_2 = self.__initialize_model(x_train, y_train)\n",
    "        \n",
    "        num_observations = x_train.shape[0]\n",
    "        tf.global_variables_initializer().run()\n",
    "        for i in range(steps):\n",
    "            start_ = (i*20) % num_observations\n",
    "            end_   = min(num_observations, start_ + batch_size)\n",
    "            x_batch = x_train[start_:end_,:]\n",
    "            y_batch = y_train[start_:end_,:]\n",
    "            train_step.run(feed_dict={x: x_batch, y: y_batch})\n",
    "\n",
    "            \n",
    "        self.__w1 = w_1.eval()\n",
    "        self.__b1 = b_1.eval()\n",
    "        self.__w2 = w_2.eval()\n",
    "        self.__b2 = b_2.eval()\n",
    "    \n",
    "    def __sigmoid(self, x):\n",
    "        x = tf.constant(x, dtype=tf.float32)\n",
    "        result = tf.nn.sigmoid(x).eval()\n",
    "        return result\n",
    "        \n",
    "    def predict(self, x_train):\n",
    "        w1 = self.__w1\n",
    "        b1 = self.__b1\n",
    "        w2 = self.__w2\n",
    "        b2 = self.__b2\n",
    "        y_lin = np.dot(self.__sigmoid(np.dot(x_train, w1)+b1), w2)+b2\n",
    "        return tf.argmax(self.__sigmoid(y_lin), 1).eval()\n",
    "        \n",
    "    \n",
    "    @property\n",
    "    def w1(self):\n",
    "        return self.__w1\n",
    "    \n",
    "    @property\n",
    "    def b1(self):\n",
    "        return self.__b1\n",
    "    \n",
    "    @property\n",
    "    def w2(self):\n",
    "        return self.__w2\n",
    "    \n",
    "    @property\n",
    "    def b2(self):\n",
    "        return self.__b2"
   ]
  },
  {
   "cell_type": "code",
   "execution_count": 49,
   "metadata": {},
   "outputs": [
    {
     "name": "stderr",
     "output_type": "stream",
     "text": [
      "/usr/local/anaconda3/lib/python3.6/site-packages/tensorflow/python/client/session.py:1645: UserWarning: An interactive session is already active. This can cause out-of-memory errors in some cases. You must explicitly call `InteractiveSession.close()` to release resources held by the other session(s).\n",
      "  warnings.warn('An interactive session is already active. This can '\n"
     ]
    },
    {
     "name": "stdout",
     "output_type": "stream",
     "text": [
      "Training Accuracy:  0.9107090909090909\n",
      "Validation Accuracy:  0.9208\n",
      "Test Accuracy:  0.9155\n",
      "Time elapsed:  8.716952085494995\n"
     ]
    }
   ],
   "source": [
    "start = time.time()\n",
    "sess = tf.InteractiveSession()\n",
    "nn = One_layer_batch(size_hidden=40)\n",
    "nn.fit(images, labels, batch_size = 100, increment = 20, steps = 3000)\n",
    "predict = nn.predict(images)\n",
    "print ('Training Accuracy: ', np.mean(predict == np.argmax(labels, 1)))\n",
    "predict = nn.predict(mnist.validation.images)\n",
    "print('Validation Accuracy: ', np.mean(predict == np.argmax(mnist.validation.labels, 1)))\n",
    "predict = nn.predict(mnist.test.images)\n",
    "print('Test Accuracy: ', np.mean(predict == np.argmax(mnist.test.labels, 1)))\n",
    "print('Time elapsed: ', time.time()-start)\n",
    "sess.close()"
   ]
  },
  {
   "cell_type": "code",
   "execution_count": 50,
   "metadata": {},
   "outputs": [
    {
     "name": "stderr",
     "output_type": "stream",
     "text": [
      "/usr/local/anaconda3/lib/python3.6/site-packages/tensorflow/python/client/session.py:1645: UserWarning: An interactive session is already active. This can cause out-of-memory errors in some cases. You must explicitly call `InteractiveSession.close()` to release resources held by the other session(s).\n",
      "  warnings.warn('An interactive session is already active. This can '\n"
     ]
    },
    {
     "name": "stdout",
     "output_type": "stream",
     "text": [
      "Training Accuracy:  0.9747454545454546\n",
      "Validation Accuracy:  0.9694\n",
      "Test Accuracy:  0.9667\n",
      "Time elapsed:  49.82860279083252\n"
     ]
    }
   ],
   "source": [
    "start = time.time()\n",
    "sess = tf.InteractiveSession()\n",
    "nn = One_layer_batch(size_hidden=100)\n",
    "nn.fit(images, labels, batch_size = 100, increment = 20, steps = 30000)\n",
    "predict = nn.predict(images)\n",
    "print('Training Accuracy: ', np.mean(predict == np.argmax(labels, 1)))\n",
    "predict = nn.predict(mnist.validation.images)\n",
    "print('Validation Accuracy: ', np.mean(predict == np.argmax(mnist.validation.labels, 1)))\n",
    "predict = nn.predict(mnist.test.images)\n",
    "print('Test Accuracy: ', np.mean(predict == np.argmax(mnist.test.labels, 1)))\n",
    "print('Time elapsed: ', time.time()-start)\n",
    "sess.close()"
   ]
  },
  {
   "cell_type": "code",
   "execution_count": 77,
   "metadata": {},
   "outputs": [
    {
     "name": "stderr",
     "output_type": "stream",
     "text": [
      "/usr/local/anaconda3/lib/python3.6/site-packages/tensorflow/python/client/session.py:1645: UserWarning: An interactive session is already active. This can cause out-of-memory errors in some cases. You must explicitly call `InteractiveSession.close()` to release resources held by the other session(s).\n",
      "  warnings.warn('An interactive session is already active. This can '\n"
     ]
    },
    {
     "name": "stdout",
     "output_type": "stream",
     "text": [
      "Training Accuracy:  0.9752909090909091\n",
      "Validation Accuracy:  0.9706\n",
      "Test Accuracy:  0.9692\n",
      "Time elapsed:  640.3244161605835\n"
     ]
    }
   ],
   "source": [
    "start = time.time()\n",
    "sess = tf.InteractiveSession()\n",
    "nn = One_layer_batch(size_hidden=300)\n",
    "nn.fit(images, labels, batch_size = 800, increment = 20, steps = 30000)\n",
    "predict = nn.predict(images)\n",
    "print('Training Accuracy: ', np.mean(predict == np.argmax(labels, 1)))\n",
    "predict = nn.predict(mnist.validation.images)\n",
    "print('Validation Accuracy: ', np.mean(predict == np.argmax(mnist.validation.labels, 1)))\n",
    "predict = nn.predict(mnist.test.images)\n",
    "print('Test Accuracy: ', np.mean(predict == np.argmax(mnist.test.labels, 1)))\n",
    "print('Time elapsed: ', time.time()-start)\n",
    "sess.close()"
   ]
  },
  {
   "cell_type": "markdown",
   "metadata": {},
   "source": [
    "**Exercise** How would you tune this model?\n",
    "\n",
    "### Keras"
   ]
  },
  {
   "cell_type": "code",
   "execution_count": 51,
   "metadata": {},
   "outputs": [
    {
     "name": "stderr",
     "output_type": "stream",
     "text": [
      "Using TensorFlow backend.\n"
     ]
    },
    {
     "name": "stdout",
     "output_type": "stream",
     "text": [
      "Epoch 1/20\n",
      "55000/55000 [==============================] - 7s 127us/step - loss: 0.3951 - categorical_accuracy: 0.89200s - loss: 0.4060 - categorical_\n",
      "Epoch 2/20\n",
      "55000/55000 [==============================] - 5s 83us/step - loss: 0.2105 - categorical_accuracy: 0.9395\n",
      "Epoch 3/20\n",
      "55000/55000 [==============================] - 5s 84us/step - loss: 0.1665 - categorical_accuracy: 0.9521\n",
      "Epoch 4/20\n",
      "55000/55000 [==============================] - 5s 90us/step - loss: 0.1404 - categorical_accuracy: 0.9594\n",
      "Epoch 5/20\n",
      "55000/55000 [==============================] - 5s 85us/step - loss: 0.1228 - categorical_accuracy: 0.9649 3s - loss: 0.1305 - categorical_ - ETA: 3s - l - ETA: 0s - loss: 0.1241 - \n",
      "Epoch 6/20\n",
      "55000/55000 [==============================] - 5s 87us/step - loss: 0.1103 - categorical_accuracy: 0.9687\n",
      "Epoch 7/20\n",
      "55000/55000 [==============================] - 5s 89us/step - loss: 0.1005 - categorical_accuracy: 0.9711 0s - loss: 0.1007 - ca\n",
      "Epoch 8/20\n",
      "55000/55000 [==============================] - 5s 98us/step - loss: 0.0928 - categorical_accuracy: 0.9734 1s - loss: - ETA: 0s - loss:\n",
      "Epoch 9/20\n",
      "55000/55000 [==============================] - 5s 94us/step - loss: 0.0856 - categorical_accuracy: 0.9757\n",
      "Epoch 10/20\n",
      "55000/55000 [==============================] - 5s 95us/step - loss: 0.0798 - categorical_accuracy: 0.9770 3s - loss: 0.0823 - catego -\n",
      "Epoch 11/20\n",
      "55000/55000 [==============================] - 5s 97us/step - loss: 0.0750 - categorical_accuracy: 0.9791\n",
      "Epoch 12/20\n",
      "55000/55000 [==============================] - 5s 93us/step - loss: 0.0708 - categorical_accuracy: 0.9798\n",
      "Epoch 13/20\n",
      "55000/55000 [==============================] - 5s 97us/step - loss: 0.0666 - categorical_accuracy: 0.9813\n",
      "Epoch 14/20\n",
      "55000/55000 [==============================] - 5s 91us/step - loss: 0.0628 - categorical_accuracy: 0.9822\n",
      "Epoch 15/20\n",
      "55000/55000 [==============================] - 6s 108us/step - loss: 0.0597 - categorical_accuracy: 0.9833\n",
      "Epoch 16/20\n",
      "55000/55000 [==============================] - 6s 100us/step - loss: 0.0570 - categorical_accuracy: 0.9838\n",
      "Epoch 17/20\n",
      "55000/55000 [==============================] - 5s 89us/step - loss: 0.0538 - categorical_accuracy: 0.9856\n",
      "Epoch 18/20\n",
      "55000/55000 [==============================] - 5s 91us/step - loss: 0.0511 - categorical_accuracy: 0.9861 0s - loss: 0.0517 - \n",
      "Epoch 19/20\n",
      "55000/55000 [==============================] - 5s 92us/step - loss: 0.0489 - categorical_accuracy: 0.9870 0s - loss: 0.0\n",
      "Epoch 20/20\n",
      "55000/55000 [==============================] - 6s 103us/step - loss: 0.0466 - categorical_accuracy: 0.9872\n",
      "\n",
      "Time elasped: 104.1726746559143 seconds\n",
      "\n",
      "5000/5000 [==============================] - 1s 126us/step\n",
      "[0.09739892480261624, 0.9706]\n"
     ]
    }
   ],
   "source": [
    "from keras.models import Sequential\n",
    "from keras.metrics import categorical_accuracy\n",
    "from keras.layers import Dense, Activation\n",
    "from keras.optimizers import SGD\n",
    "\n",
    "model = Sequential()\n",
    "model.add(Dense(40, input_dim=784)) # number of hidden neurons = 40\n",
    "model.add(Activation('sigmoid'))\n",
    "model.add(Dense(10))\n",
    "model.add(Activation('softmax'))\n",
    "\n",
    "\n",
    "sgd = SGD(lr=0.1) # Stochastic Gradient Descent with learning rate = 0.1\n",
    "model.compile(\n",
    "    loss='categorical_crossentropy',\n",
    "    optimizer=sgd,\n",
    "    metrics=[categorical_accuracy]\n",
    ")\n",
    "\n",
    "start = time.time()\n",
    "model.fit(images, labels, epochs=20, batch_size=10)\n",
    "\n",
    "print(\"\\nTime elasped: {} seconds\\n\".format(time.time() - start))\n",
    "\n",
    "score = model.evaluate(\n",
    "    mnist.validation.images, \n",
    "    mnist.validation.labels\n",
    ")\n",
    "\n",
    "print(score)"
   ]
  },
  {
   "cell_type": "markdown",
   "metadata": {
    "collapsed": true
   },
   "source": [
    "### Convolutional Neural Network\n",
    "\n",
    "Convolution neural network take the two dimensional structure of images into account. Variables from layer to layer are no longer fully connected."
   ]
  },
  {
   "cell_type": "code",
   "execution_count": 106,
   "metadata": {},
   "outputs": [
    {
     "name": "stderr",
     "output_type": "stream",
     "text": [
      "/usr/local/anaconda3/lib/python3.6/site-packages/tensorflow/python/client/session.py:1645: UserWarning: An interactive session is already active. This can cause out-of-memory errors in some cases. You must explicitly call `InteractiveSession.close()` to release resources held by the other session(s).\n",
      "  warnings.warn('An interactive session is already active. This can '\n"
     ]
    },
    {
     "name": "stdout",
     "output_type": "stream",
     "text": [
      "(?, 28, 28, 32)\n",
      "(?, 14, 14, 32)\n",
      "(?, 7, 7, 64)\n",
      "step 0, time elasped 3.190\n",
      "step 500, time elasped 53.301\n",
      "step 1000, time elasped 103.977\n",
      "step 1500, time elasped 154.057\n",
      "step 2000, time elasped 201.485\n",
      "step 2500, time elasped 253.241\n",
      "step 3000, time elasped 303.754\n",
      "step 3500, time elasped 353.270\n",
      "step 4000, time elasped 407.352\n",
      "step 4500, time elasped 460.063\n",
      "step 5000, time elasped 510.773\n",
      "step 5500, time elasped 562.044\n",
      "step 6000, time elasped 613.897\n",
      "step 6500, time elasped 666.030\n",
      "step 7000, time elasped 718.717\n",
      "step 7500, time elasped 771.416\n",
      "step 8000, time elasped 825.049\n",
      "step 8500, time elasped 878.923\n",
      "step 9000, time elasped 933.397\n",
      "step 9500, time elasped 988.370\n",
      "step 10000, time elasped 1043.713\n",
      "step 10500, time elasped 1099.479\n",
      "step 11000, time elasped 1155.939\n",
      "step 11500, time elasped 1212.532\n",
      "step 12000, time elasped 1269.443\n",
      "step 12500, time elasped 1326.853\n",
      "step 13000, time elasped 1384.368\n",
      "step 13500, time elasped 1442.347\n",
      "step 14000, time elasped 1500.484\n",
      "step 14500, time elasped 1558.867\n",
      "step 15000, time elasped 1617.278\n",
      "step 15500, time elasped 1675.057\n",
      "step 16000, time elasped 1731.050\n",
      "step 16500, time elasped 1787.386\n",
      "step 17000, time elasped 1843.739\n",
      "step 17500, time elasped 1900.128\n",
      "step 18000, time elasped 1957.378\n",
      "step 18500, time elasped 2013.794\n",
      "step 19000, time elasped 2070.314\n",
      "step 19500, time elasped 2126.533\n",
      "step 20000, time elasped 2182.761\n",
      "validation accuracy 0.9912\n",
      "test accuracy 0.9904\n"
     ]
    }
   ],
   "source": [
    "def weight_variable(shape):\n",
    "    initial = tf.truncated_normal(shape, stddev=0.1)\n",
    "    return tf.Variable(initial)\n",
    "\n",
    "def bias_variable(shape):\n",
    "    initial = tf.constant(0.1, shape=shape)\n",
    "    return tf.Variable(initial)\n",
    "\n",
    "def conv2d(x, W): # moving the kernel around on the image - \n",
    "    # on each step, get one value by matrix multiplication of the image and kernel\n",
    "    return tf.nn.conv2d(x, W, strides=[1, 1, 1, 1], padding='SAME') # choose a padding such that output image size is \n",
    "                                                                    # equal to input\n",
    "    \n",
    "def max_pool_2x2(x): # Pooling after convolution to reduce the resultant image size \n",
    "    return tf.nn.max_pool(x, ksize=[1, 2, 2, 1],\n",
    "                              strides=[1, 2, 2, 1], padding='SAME')\n",
    "    #after pooling returned matrix size will be reduced by half 14x14x32 - because we are using stride 2, \n",
    "    # so we are skipping alternate cells\n",
    "    \n",
    "        \n",
    "        \n",
    "#### From here!!!\n",
    "\n",
    "# Convolution requires a 4 dimensional tensor\n",
    "start = time.time()\n",
    "sess = tf.InteractiveSession()\n",
    "x = tf.placeholder(tf.float32, shape=[None, 784])\n",
    "y = tf.placeholder(tf.float32, shape=[None, 10])\n",
    "\n",
    "\n",
    "W_conv1 = weight_variable([5, 5, 1, 32]) # Each image size is 28x28x1, so use n=32 filters of 5x5x1 size\n",
    "b_conv1 = bias_variable([32])\n",
    "x_train = tf.reshape(x, [-1,28,28,1]) # [batch size, height, width, color_channels]\n",
    "# -1 is indicating that particular dimension should be sized so that the total number of elements remains constant. \n",
    "h_conv1 = tf.nn.relu(conv2d(x_train, W_conv1) + b_conv1)\n",
    "print(h_conv1.shape)\n",
    "h_pool1 = max_pool_2x2(h_conv1)\n",
    "print(h_pool1.shape)\n",
    "\n",
    "# after pooling, 14x14x32 will be considered as one image on which the next convolution will apply\n",
    "# initialize a new window of size 5x5x32 to match the results from the prev step\n",
    "W_conv2 = weight_variable([5, 5, 32, 64]) # 64 such windows\n",
    "b_conv2 = bias_variable([64])\n",
    "h_conv2 = tf.nn.relu(conv2d(h_pool1, W_conv2) + b_conv2)\n",
    "h_pool2 = max_pool_2x2(h_conv2)\n",
    "print(h_pool2.shape)\n",
    "\n",
    "# After h_pool2, image size is [7,7,64]. Choosing 1024 neurons for the fully-connected (fc) layer \n",
    "# W_fc1 is the 2-D weight matrix between the last convolution layer and the next dense layer  \n",
    "W_fc1 = weight_variable([7* 7* 64, 1024]) \n",
    "b_fc1 = bias_variable([1024])\n",
    "\n",
    "# We flatten h_pool2 and input it as a 1-D vector into 1024 neurons in the hidden layer\n",
    "# making the dense layer -  unroll into a single 1D vector\n",
    "h_pool2_flat = tf.reshape(h_pool2, [-1, 7*7*64])\n",
    "h_fc1 = tf.nn.relu(tf.matmul(h_pool2_flat, W_fc1) + b_fc1)\n",
    "\n",
    "# Next dense layer is the output layer consisting of 10 neurons\n",
    "W_fc2 = weight_variable([1024, 10])\n",
    "b_fc2 = bias_variable([10])\n",
    "y_conv = tf.matmul(h_fc1, W_fc2) + b_fc2\n",
    "        \n",
    "        \n",
    "sess = tf.InteractiveSession()       \n",
    "cross_entropy = tf.reduce_mean(tf.nn.softmax_cross_entropy_with_logits(logits=y_conv, labels=y))\n",
    "train_step = tf.train.AdamOptimizer(1e-4).minimize(cross_entropy)\n",
    "correct_prediction = tf.equal(tf.argmax(y_conv,1), tf.argmax(y, 1))\n",
    "accuracy = tf.reduce_mean(tf.cast(correct_prediction, tf.float32))\n",
    "sess.run(tf.global_variables_initializer())\n",
    "for i in range(20001):\n",
    "    batch = mnist.train.next_batch(50)\n",
    "    if i%500 == 0:\n",
    "        print(\"step %d, time elasped %.3f\"% (i, time.time()-start))\n",
    "    train_step.run(feed_dict={x: batch[0], y: batch[1]})\n",
    "\n",
    "print(\"validation accuracy %g\"%accuracy.eval(feed_dict={x: mnist.validation.images, y: mnist.validation.labels}))\n",
    "print(\"test accuracy %g\"%accuracy.eval(feed_dict={x: mnist.test.images, y: mnist.test.labels}))"
   ]
  },
  {
   "cell_type": "code",
   "execution_count": null,
   "metadata": {},
   "outputs": [],
   "source": [
    "sess.close()"
   ]
  },
  {
   "cell_type": "markdown",
   "metadata": {},
   "source": [
    "### Dropout\n",
    "\n",
    "Here, we train multiple different models: <br>\n",
    "M1: considers only a random subset of features <br>\n",
    "M2: considers only another random subset of features.. and so on..\n",
    "<br> \n",
    "- The idea is to train models with randomly selected subset of the variables:\n",
    "\n",
    "<img src = https://s3-us-west-2.amazonaws.com/nycdatasciecneipynb/neurons_ex_img/dropout1.png height=300 width = 750>\n",
    "\n",
    "<br>\n",
    "But can we do better?\n",
    "\n",
    "- Instead of train multiple models with different network, we can randomly select variables in each step of gradient descent: \n",
    "Using a single model, we randomly activate only a subset of neurons\n",
    "\n",
    "<img src = https://s3-us-west-2.amazonaws.com/nycdatasciecneipynb/neurons_ex_img/dropout2.png height=300 width = 750>\n",
    "\n",
    "\n",
    "- All the variables are used for predicting. They need to be scaled to predict properly."
   ]
  },
  {
   "cell_type": "code",
   "execution_count": 136,
   "metadata": {},
   "outputs": [
    {
     "name": "stderr",
     "output_type": "stream",
     "text": [
      "/usr/local/anaconda3/lib/python3.6/site-packages/tensorflow/python/client/session.py:1645: UserWarning: An interactive session is already active. This can cause out-of-memory errors in some cases. You must explicitly call `InteractiveSession.close()` to release resources held by the other session(s).\n",
      "  warnings.warn('An interactive session is already active. This can '\n"
     ]
    },
    {
     "name": "stdout",
     "output_type": "stream",
     "text": [
      "step 0, time elasped 11.381\n",
      "step 500, time elasped 64.419\n",
      "step 1000, time elasped 116.676\n",
      "step 1500, time elasped 171.139\n",
      "step 2000, time elasped 224.021\n",
      "step 2500, time elasped 278.082\n",
      "step 3000, time elasped 336.270\n",
      "step 3500, time elasped 391.206\n",
      "step 4000, time elasped 446.368\n",
      "step 4500, time elasped 501.111\n",
      "step 5000, time elasped 556.236\n",
      "step 5500, time elasped 611.375\n",
      "step 6000, time elasped 666.417\n",
      "step 6500, time elasped 721.709\n",
      "step 7000, time elasped 776.514\n",
      "step 7500, time elasped 831.522\n",
      "step 8000, time elasped 886.152\n",
      "step 8500, time elasped 941.015\n",
      "step 9000, time elasped 995.518\n",
      "step 9500, time elasped 1050.317\n",
      "step 10000, time elasped 1104.637\n",
      "step 10500, time elasped 1159.152\n",
      "step 11000, time elasped 1213.278\n",
      "step 11500, time elasped 1267.357\n",
      "step 12000, time elasped 1321.698\n",
      "step 12500, time elasped 1375.750\n",
      "step 13000, time elasped 1429.839\n",
      "step 13500, time elasped 1483.748\n",
      "step 14000, time elasped 1537.524\n",
      "step 14500, time elasped 1590.753\n",
      "step 15000, time elasped 1643.096\n",
      "step 15500, time elasped 1694.841\n",
      "step 16000, time elasped 1746.814\n",
      "step 16500, time elasped 1800.133\n",
      "step 17000, time elasped 1853.281\n",
      "step 17500, time elasped 1906.383\n",
      "step 18000, time elasped 1959.397\n",
      "step 18500, time elasped 2012.785\n",
      "step 19000, time elasped 2065.655\n",
      "step 19500, time elasped 2118.608\n",
      "step 20000, time elasped 2171.362\n",
      "validation accuracy 0.9932\n",
      "test accuracy 0.9928\n"
     ]
    }
   ],
   "source": [
    "#### From here!!!\n",
    "start = time.time()\n",
    "sess = tf.InteractiveSession()\n",
    "x = tf.placeholder(tf.float32, shape=[None, 784])\n",
    "y = tf.placeholder(tf.float32, shape=[None, 10])\n",
    "\n",
    "W_conv1 = weight_variable([5, 5, 1, 32])\n",
    "b_conv1 = bias_variable([32])\n",
    "x_train = tf.reshape(x, [-1,28,28,1])\n",
    "h_conv1 = tf.nn.relu(conv2d(x_train, W_conv1) + b_conv1)\n",
    "h_pool1 = max_pool_2x2(h_conv1)\n",
    "W_conv2 = weight_variable([5, 5, 32, 64])\n",
    "b_conv2 = bias_variable([64])\n",
    "h_conv2 = tf.nn.relu(conv2d(h_pool1, W_conv2) + b_conv2)\n",
    "h_pool2 = max_pool_2x2(h_conv2)\n",
    "\n",
    "W_fc1 = weight_variable([7 * 7 * 64, 1024])\n",
    "b_fc1 = bias_variable([1024])\n",
    "\n",
    "h_pool2_flat = tf.reshape(h_pool2, [-1, 7*7*64])\n",
    "h_fc1 = tf.nn.relu(tf.matmul(h_pool2_flat, W_fc1) + b_fc1)\n",
    "\n",
    "# In the fully connected layer 1, activate only a subset of neurons in each iteration\n",
    "keep_prob = tf.placeholder(tf.float32)\n",
    "h_fc1_drop = tf.nn.dropout(h_fc1, keep_prob)\n",
    "\n",
    "W_fc2 = weight_variable([1024, 10])\n",
    "b_fc2 = bias_variable([10])\n",
    "y_conv = tf.matmul(h_fc1_drop, W_fc2) + b_fc2\n",
    "        \n",
    "        \n",
    "sess = tf.InteractiveSession()       \n",
    "cross_entropy = tf.reduce_mean(tf.nn.softmax_cross_entropy_with_logits(logits=y_conv, labels=y))\n",
    "train_step = tf.train.AdamOptimizer(1e-4).minimize(cross_entropy)\n",
    "correct_prediction = tf.equal(tf.argmax(y_conv,1), tf.argmax(y, 1))\n",
    "accuracy = tf.reduce_mean(tf.cast(correct_prediction, tf.float32))\n",
    "sess.run(tf.global_variables_initializer())\n",
    "for i in range(20001):\n",
    "    batch = mnist.train.next_batch(50)\n",
    "    if i%500 == 0:\n",
    "        print(\"step %d, time elasped %.3f\"% (i, time.time()-start))\n",
    "    train_step.run(feed_dict={x: batch[0], y: batch[1], keep_prob: 0.5})\n",
    "\n",
    "print(\"validation accuracy %g\"%accuracy.eval(feed_dict={x: mnist.validation.images, y: mnist.validation.labels, keep_prob: 1.}))\n",
    "print(\"test accuracy %g\"%accuracy.eval(feed_dict={x: mnist.test.images, y: mnist.test.labels, keep_prob: 1.}))\n",
    "sess.close()"
   ]
  },
  {
   "cell_type": "code",
   "execution_count": null,
   "metadata": {
    "collapsed": true
   },
   "outputs": [],
   "source": []
  }
 ],
 "metadata": {
  "anaconda-cloud": {},
  "kernelspec": {
   "display_name": "Python 3",
   "language": "python",
   "name": "python3"
  },
  "language_info": {
   "codemirror_mode": {
    "name": "ipython",
    "version": 3
   },
   "file_extension": ".py",
   "mimetype": "text/x-python",
   "name": "python",
   "nbconvert_exporter": "python",
   "pygments_lexer": "ipython3",
   "version": "3.5.5"
  }
 },
 "nbformat": 4,
 "nbformat_minor": 1
}
